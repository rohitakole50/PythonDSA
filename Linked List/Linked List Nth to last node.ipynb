{
 "cells": [
  {
   "cell_type": "code",
   "execution_count": 7,
   "id": "60722747",
   "metadata": {},
   "outputs": [],
   "source": [
    "class Node(object):\n",
    "    def __init__(self, value):\n",
    "        self.value = value\n",
    "        self.nextnode = None"
   ]
  },
  {
   "cell_type": "code",
   "execution_count": 8,
   "id": "22a2d0a7",
   "metadata": {},
   "outputs": [],
   "source": [
    "def Nthtothelastnode(n, head):\n",
    "    leftpointer = head\n",
    "    rightpointer = head\n",
    "    \n",
    "    for i in range(n-1):\n",
    "        \n",
    "        if not rightpointer.nextnode:\n",
    "            raise LookupError('Error: n is larger than the linked list.')\n",
    "            \n",
    "        rightpointer = rightpointer.nextnode\n",
    "    while rightpointer.nextnode:\n",
    "        leftpointer = leftpointer.nextnode\n",
    "        rightpointer = rightpointer.nextnode\n",
    "    return leftpointer\n"
   ]
  },
  {
   "cell_type": "code",
   "execution_count": 10,
   "id": "52295ee4",
   "metadata": {},
   "outputs": [
    {
     "name": "stdout",
     "output_type": "stream",
     "text": [
      "ALL TEST CASES PASSED\n"
     ]
    }
   ],
   "source": [
    "from nose.tools import assert_equal\n",
    "\n",
    "a = Node(1)\n",
    "b = Node(2)\n",
    "c = Node(3)\n",
    "d = Node(4)\n",
    "e = Node(5)\n",
    "\n",
    "a.nextnode = b\n",
    "b.nextnode = c\n",
    "c.nextnode = d\n",
    "d.nextnode = e\n",
    "\n",
    "####\n",
    "\n",
    "class TestNLast(object):\n",
    "    \n",
    "    def test(self,sol):\n",
    "        \n",
    "        assert_equal(sol(2,a),d)\n",
    "        print ('ALL TEST CASES PASSED')\n",
    "        \n",
    "# Run tests\n",
    "t = TestNLast()\n",
    "t.test(Nthtothelastnode)"
   ]
  },
  {
   "cell_type": "code",
   "execution_count": 15,
   "id": "e845b8dd",
   "metadata": {},
   "outputs": [],
   "source": [
    "a = Node(1)\n",
    "b = Node(2)\n",
    "c = Node(3)\n",
    "d = Node(4)\n",
    "e = Node(5)\n",
    "\n",
    "a.nextnode = b\n",
    "b.nextnode = c\n",
    "c.nextnode = d\n",
    "d.nextnode = e\n",
    "\n",
    "targetnode = Nthtothelastnode(2, a)"
   ]
  },
  {
   "cell_type": "code",
   "execution_count": 16,
   "id": "5b934f91",
   "metadata": {},
   "outputs": [
    {
     "data": {
      "text/plain": [
       "4"
      ]
     },
     "execution_count": 16,
     "metadata": {},
     "output_type": "execute_result"
    }
   ],
   "source": [
    "targetnode.value"
   ]
  },
  {
   "cell_type": "code",
   "execution_count": null,
   "id": "24f21017",
   "metadata": {},
   "outputs": [],
   "source": []
  }
 ],
 "metadata": {
  "kernelspec": {
   "display_name": "Python 3",
   "language": "python",
   "name": "python3"
  },
  "language_info": {
   "codemirror_mode": {
    "name": "ipython",
    "version": 3
   },
   "file_extension": ".py",
   "mimetype": "text/x-python",
   "name": "python",
   "nbconvert_exporter": "python",
   "pygments_lexer": "ipython3",
   "version": "3.9.4"
  }
 },
 "nbformat": 4,
 "nbformat_minor": 5
}
