{
 "cells": [
  {
   "cell_type": "code",
   "execution_count": 1,
   "id": "9fe69609",
   "metadata": {},
   "outputs": [],
   "source": [
    "class DoublyLinkedListNode(object):\n",
    "    def __init__(self, value):\n",
    "        self.value = value\n",
    "        self.next_node = None\n",
    "        self.prev_node = None"
   ]
  },
  {
   "cell_type": "code",
   "execution_count": 4,
   "id": "09ed5405",
   "metadata": {},
   "outputs": [],
   "source": [
    "a = DoublyLinkedListNode(1)\n",
    "b = DoublyLinkedListNode(2)\n",
    "c = DoublyLinkedListNode(3)\n",
    "d = DoublyLinkedListNode(4)\n",
    "\n",
    "a.next_node = b\n",
    "b.prev_node = a\n",
    "\n",
    "b.next_node = c\n",
    "c.prev_node = b\n",
    "\n",
    "c.next_node = d\n",
    "d.prev_node = c"
   ]
  },
  {
   "cell_type": "code",
   "execution_count": null,
   "id": "faeb79eb",
   "metadata": {},
   "outputs": [],
   "source": []
  }
 ],
 "metadata": {
  "kernelspec": {
   "display_name": "Python 3",
   "language": "python",
   "name": "python3"
  },
  "language_info": {
   "codemirror_mode": {
    "name": "ipython",
    "version": 3
   },
   "file_extension": ".py",
   "mimetype": "text/x-python",
   "name": "python",
   "nbconvert_exporter": "python",
   "pygments_lexer": "ipython3",
   "version": "3.9.4"
  }
 },
 "nbformat": 4,
 "nbformat_minor": 5
}
