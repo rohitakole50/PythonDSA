{
 "cells": [
  {
   "cell_type": "markdown",
   "id": "59fc03f6",
   "metadata": {},
   "source": [
    "### String Reversal\n",
    "#### Base Case: We can say that the length of the string is <= or == 1 return the string\n",
    "#### Recusive case: by using s[0] we are popping it off from the list and adding it at the end. Then on next recursive call we are left with the rest of the string except s[0]. Then the index 1 becomes index 0 and we pop it off from there. Till the last element."
   ]
  },
  {
   "cell_type": "code",
   "execution_count": 14,
   "id": "8abb332d",
   "metadata": {},
   "outputs": [],
   "source": [
    "def reverse(s):\n",
    "    if len(s) <= 1:\n",
    "        return s\n",
    "    \n",
    "    return reverse(s[1:]) + s[0]"
   ]
  },
  {
   "cell_type": "code",
   "execution_count": 15,
   "id": "83cdf0d9",
   "metadata": {},
   "outputs": [
    {
     "data": {
      "text/plain": [
       "'dlrow olleh'"
      ]
     },
     "execution_count": 15,
     "metadata": {},
     "output_type": "execute_result"
    }
   ],
   "source": [
    "reverse('hello world')"
   ]
  },
  {
   "cell_type": "code",
   "execution_count": null,
   "id": "3d5a94b4",
   "metadata": {},
   "outputs": [],
   "source": []
  }
 ],
 "metadata": {
  "kernelspec": {
   "display_name": "Python 3",
   "language": "python",
   "name": "python3"
  },
  "language_info": {
   "codemirror_mode": {
    "name": "ipython",
    "version": 3
   },
   "file_extension": ".py",
   "mimetype": "text/x-python",
   "name": "python",
   "nbconvert_exporter": "python",
   "pygments_lexer": "ipython3",
   "version": "3.9.4"
  }
 },
 "nbformat": 4,
 "nbformat_minor": 5
}
